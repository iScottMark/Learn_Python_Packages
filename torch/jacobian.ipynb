{
 "cells": [
  {
   "cell_type": "markdown",
   "id": "73549f62-8aa0-47bd-bd41-13e18d2681d1",
   "metadata": {},
   "source": [
    "# 利用 PyTorch 的 autograd 求解雅可比矩阵"
   ]
  },
  {
   "cell_type": "code",
   "execution_count": null,
   "id": "8cef39a3-5622-4ab7-bbe8-a52b94ae1dcb",
   "metadata": {},
   "outputs": [],
   "source": []
  }
 ],
 "metadata": {
  "kernelspec": {
   "display_name": "deeplearning",
   "language": "python",
   "name": "deeplearning"
  },
  "language_info": {
   "codemirror_mode": {
    "name": "ipython",
    "version": 3
   },
   "file_extension": ".py",
   "mimetype": "text/x-python",
   "name": "python",
   "nbconvert_exporter": "python",
   "pygments_lexer": "ipython3",
   "version": "3.9.5"
  }
 },
 "nbformat": 4,
 "nbformat_minor": 5
}
