{
 "cells": [
  {
   "cell_type": "markdown",
   "metadata": {},
   "source": [
    "# Fits 文件的创建与写入"
   ]
  },
  {
   "cell_type": "markdown",
   "metadata": {},
   "source": [
    "## 创建一个新的 Fits 文件"
   ]
  },
  {
   "cell_type": "code",
   "execution_count": 2,
   "metadata": {},
   "outputs": [],
   "source": [
    "import numpy as np\n",
    "from astropy.io import fits\n",
    "\n",
    "# prepara data\n",
    "data1 = np.arange(100.0)\n",
    "data2 = np.array([x for x in range(30)])\n",
    "\n",
    "# append the headers besides the basic ones.\n",
    "header2 = fits.Header()\n",
    "header2['1'] = 'Good'\n",
    "header2.comments['1'] = 'well wavelength calibrated'\n",
    "header2['2'] = 'Bad'\n",
    "header2['3'] = 'Flux'\n",
    "header2.add_blank(before='1')\n",
    "header2.add_comment('-- The explanation of different flag values', before='1')\n",
    "\n",
    "# create 2 HDU Objects\n",
    "hdu1 = fits.PrimaryHDU(data1)  # Primary here means first and unique.\n",
    "hdu2 = fits.ImageHDU(data2, name='flags', header=header2)\n",
    "\n",
    "# write to the fits file\n",
    "hdu = fits.HDUList([hdu1, hdu2])\n",
    "hdu.writeto('new2.fits', overwrite=True)"
   ]
  },
  {
   "cell_type": "markdown",
   "metadata": {},
   "source": [
    " - `PrimaryHDU` 在 fits 标准里**有且只能有一个，且必须在第 0 个**，详情参考[这个回答](https://stackoverflow.com/questions/49999408/astropy-fits-with-multiple-headers)"
   ]
  },
  {
   "cell_type": "code",
   "execution_count": 3,
   "metadata": {},
   "outputs": [
    {
     "name": "stdout",
     "output_type": "stream",
     "text": [
      "Filename: new2.fits\n",
      "No.    Name      Ver    Type      Cards   Dimensions   Format\n",
      "  0  PRIMARY       1 PrimaryHDU       5   (100,)   float64   \n",
      "  1  FLAGS         1 ImageHDU        12   (30,)   int64   \n"
     ]
    }
   ],
   "source": [
    "with fits.open('new2.fits') as f:\n",
    "    f.info()\n",
    "    data = f[1].data\n",
    "    header = f[1].header"
   ]
  },
  {
   "cell_type": "code",
   "execution_count": 3,
   "metadata": {},
   "outputs": [
    {
     "data": {
      "text/plain": [
       "XTENSION= 'IMAGE   '           / Image extension                                \n",
       "BITPIX  =                   64 / array data type                                \n",
       "NAXIS   =                    1 / number of array dimensions                     \n",
       "NAXIS1  =                   30                                                  \n",
       "PCOUNT  =                    0 / number of parameters                           \n",
       "GCOUNT  =                    1 / number of groups                               \n",
       "                                                                                \n",
       "COMMENT -- The explanation of different flag values                             \n",
       "1       = 'Good    '           / well wavelength calibrated                     \n",
       "2       = 'Bad     '                                                            \n",
       "3       = 'Flux    '                                                            \n",
       "EXTNAME = 'FLAGS   '           / extension name                                 "
      ]
     },
     "execution_count": 3,
     "metadata": {},
     "output_type": "execute_result"
    }
   ],
   "source": [
    "header"
   ]
  },
  {
   "cell_type": "markdown",
   "metadata": {},
   "source": [
    "## 在 fits 文件里追加 HDU\n",
    "\n",
    "`astropy` [文档](https://docs.astropy.org/en/stable/io/fits/index.html#save-file-changes)里写道\n",
    "\n",
    "> Because HDUList acts like a list we can also append, for example, an ImageHDU to an already existing HDUList:"
   ]
  },
  {
   "cell_type": "code",
   "execution_count": 4,
   "metadata": {},
   "outputs": [],
   "source": [
    "data3 = np.ones(28)\n",
    "hdu3 = fits.ImageHDU(data3, name='append')\n",
    "with fits.open('new2.fits') as hdu:\n",
    "    hdu.append(hdu3)\n",
    "    hdu.writeto('new2.fits', overwrite=True)"
   ]
  },
  {
   "cell_type": "code",
   "execution_count": 5,
   "metadata": {},
   "outputs": [
    {
     "name": "stdout",
     "output_type": "stream",
     "text": [
      "Filename: new2.fits\n",
      "No.    Name      Ver    Type      Cards   Dimensions   Format\n",
      "  0  PRIMARY       1 PrimaryHDU       5   (100,)   float64   \n",
      "  1  FLAGS         1 ImageHDU        12   (30,)   int64   \n",
      "  2  APPEND        1 ImageHDU         7   (28,)   float64   \n"
     ]
    }
   ],
   "source": [
    "with fits.open('new2.fits') as f:\n",
    "    f.info()\n",
    "    data = f[1].data\n",
    "    header = f[1].header"
   ]
  },
  {
   "cell_type": "code",
   "execution_count": 28,
   "metadata": {},
   "outputs": [
    {
     "data": {
      "text/plain": [
       "['PRIMARY', 'FLAGS']"
      ]
     },
     "execution_count": 28,
     "metadata": {},
     "output_type": "execute_result"
    }
   ],
   "source": [
    "all_hdu_names = [f[i].name for i in range(len(f))]\n",
    "all_hdu_names"
   ]
  },
  {
   "cell_type": "code",
   "execution_count": 29,
   "metadata": {},
   "outputs": [
    {
     "data": {
      "text/plain": [
       "True"
      ]
     },
     "execution_count": 29,
     "metadata": {},
     "output_type": "execute_result"
    }
   ],
   "source": [
    "'FLAGS' in all_hdu_names"
   ]
  },
  {
   "cell_type": "markdown",
   "metadata": {},
   "source": [
    "## 修改 PrimaryHDU 的 name"
   ]
  },
  {
   "cell_type": "code",
   "execution_count": 5,
   "metadata": {},
   "outputs": [],
   "source": [
    "from astropy.io import fits\n",
    "\n",
    "with fits.open('new2.fits') as f:\n",
    "     f[0].name = 'test'\n",
    "     f.writeto('new3.fits')"
   ]
  },
  {
   "cell_type": "code",
   "execution_count": 7,
   "metadata": {},
   "outputs": [
    {
     "name": "stdout",
     "output_type": "stream",
     "text": [
      "Filename: new3.fits\n",
      "No.    Name      Ver    Type      Cards   Dimensions   Format\n",
      "  0  TEST          1 PrimaryHDU       6   (100,)   float64   \n",
      "  1  FLAGS         1 ImageHDU        12   (30,)   int64   \n",
      "  2  APPEND        1 ImageHDU         7   (28,)   float64   \n"
     ]
    }
   ],
   "source": [
    "with fits.open('new3.fits') as f:\n",
    "     f.info()"
   ]
  }
 ],
 "metadata": {
  "interpreter": {
   "hash": "df52ec32591199a0b17bdd30aca99084c3228facbbb8097fe9a3afecfb035e89"
  },
  "kernelspec": {
   "display_name": "Python 3.9.5 64-bit ('deeplearning': conda)",
   "language": "python",
   "name": "python3"
  },
  "language_info": {
   "codemirror_mode": {
    "name": "ipython",
    "version": 3
   },
   "file_extension": ".py",
   "mimetype": "text/x-python",
   "name": "python",
   "nbconvert_exporter": "python",
   "pygments_lexer": "ipython3",
   "version": "3.9.5"
  },
  "orig_nbformat": 4
 },
 "nbformat": 4,
 "nbformat_minor": 2
}
