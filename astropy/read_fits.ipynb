{
 "cells": [
  {
   "cell_type": "markdown",
   "id": "2325e098-3dc8-4475-ac02-b02b8ed27055",
   "metadata": {},
   "source": [
    "# 操作 fits 文件"
   ]
  },
  {
   "cell_type": "markdown",
   "id": "1b9aa055-5708-430b-9271-dd7c743d38c1",
   "metadata": {},
   "source": [
    "## 0.查看基本信息"
   ]
  },
  {
   "cell_type": "markdown",
   "id": "696ac1fa-9755-4452-b891-af313d363f23",
   "metadata": {},
   "source": [
    "[HDUList](https://docs.astropy.org/en/stable/io/fits/api/hdulists.html#astropy.io.fits.HDUList) 是 fits 文件结构的最顶层部分，其包含 2 个属性：\n",
    "- header\n",
    "- data\n",
    "\n",
    "<br />"
   ]
  },
  {
   "cell_type": "code",
   "execution_count": 1,
   "id": "35d9c4ce-fd52-4a8f-aca7-fe4cbb315f73",
   "metadata": {
    "tags": []
   },
   "outputs": [
    {
     "name": "stdout",
     "output_type": "stream",
     "text": [
      "Filename: /home/mxx/test_data2/spec-58938-HD151157N364516M02_sp16-248.fits\n",
      "No.    Name      Ver    Type      Cards   Dimensions   Format\n",
      "  0  Flux          1 PrimaryHDU     160   (3894, 6)   float32   \n",
      "  1                1 BinTableHDU    129   1R x 54C   [8A, 18A, J, J, 19A, 5A, D, D, 4A, 3A, J, 7A, 3A, E, E, E, J, E, 21A, 10J, J, 10E, 100E, E, E, E, E, E, E, J, E, E, E, J, E, E, A, A, A, E, E, E, E, E, E, E, E, J, 6A, 3A, E, E, E, E]   \n"
     ]
    }
   ],
   "source": [
    "from astropy.io import fits\n",
    "\n",
    "data_dir = '/home/mxx/test_data2/'\n",
    "filename = 'spec-58938-HD151157N364516M02_sp16-248.fits'\n",
    "with fits.open(data_dir + filename) as f:\n",
    "    f.info()"
   ]
  },
  {
   "cell_type": "markdown",
   "id": "1b201feb-ecf8-4bc6-881b-46238eea0731",
   "metadata": {},
   "source": [
    "<br/>\n",
    "\n",
    "根据 `.info()` 方法返回的信息依次分析：\n",
    "\n",
    "- No.: HDUList 的序号，在该例中有 2 个 HDUList\n",
    "- Ver: Version，版本号\n",
    "- Type: HDU 的类型，一般有 PrimaryHDU, ImageHDU, TableHDU, BinTableHDU, GroupsHDU, ...\n",
    "- Cards: 简单理解为一个 Card 对应 header 中的一条信息，一般一个 Card 包含下面 3 个属性 (其中 comment 属性不是必需的)： \n",
    "  - Keyword - 必须是 str 类型，且一般是唯一的\n",
    "  - Value - 可以是 str, int, float, bool, complex\n",
    "  - Comment - 必须是 str 类型\n",
    "- Dimension: 数据维度\n",
    "- Format: 数据格式"
   ]
  },
  {
   "cell_type": "markdown",
   "id": "ce90f847-1431-4a03-8af6-7e8e39aa4821",
   "metadata": {
    "tags": [],
    "toc-hr-collapsed": true
   },
   "source": [
    "---\n",
    "\n",
    "## 1.查看 header"
   ]
  },
  {
   "cell_type": "markdown",
   "id": "611c4caa-50b2-47e7-b3a3-e6f078226211",
   "metadata": {},
   "source": [
    "### 1.1.查看 header 的全部信息\n",
    "\n",
    "使用 `repr` (report) 方法漂亮地输出所有的 header 信息，每一行信息即为上述提到的一个 Card。\n",
    "\n",
    "*注：此 fits 文件中共有 2 个 HDUList，而第一个 HDUList 包含了主要的光谱信息，是我们所关注的部分，因而接下来均以第一个 HDUList 即 PrimaryHDU 为例*。\n",
    "\n",
    "<br />"
   ]
  },
  {
   "cell_type": "code",
   "execution_count": 2,
   "id": "5a921f47-fb21-4691-85e0-3a337c5f4ce3",
   "metadata": {},
   "outputs": [
    {
     "name": "stdout",
     "output_type": "stream",
     "text": [
      "SIMPLE  =                    T /Primary Header created by MWRFITS v1.11b        \n",
      "BITPIX  =                  -32 /                                                \n",
      "NAXIS   =                    2 /                                                \n",
      "NAXIS1  =                 3894 /                                                \n",
      "NAXIS2  =                    6 /                                                \n",
      "EXTEND  =                    T /Extensions may be present                       \n",
      "                                                                                \n",
      "COMMENT --------FILE INFORMATION                                                \n",
      "FILENAME= 'spec-58938-HD151157N364516M02_sp16-248.fits' /                       \n",
      "GENETIME= '2020-07-01T04:58:38' / Generation time of this fits file (UTC)       \n",
      "AUTHOR  = ' LAMOST pipeline'   / Who compiled the information                   \n",
      "N_EXTEN = '2       '           /                                                \n",
      "EXTEN0  = 'Flux Inverse Subcontinuum Andmask Ormask Synflux' /                  \n",
      "EXTEN1  = 'One-D result structure' /                                            \n",
      "ORIGIN  = 'NAOC    '           / Organization responsible for creating this file\n",
      "COMMENT --------TELESCOPE PARAMETERS                                            \n",
      "TELESCOP= 'LAMOST  '           / GuoShouJing Telescope                          \n",
      "LONGITUD=              117.580 / [degree] Longitude of Telescope                \n",
      "LATITUDE=              40.3900 / [degree] Latitude of Telescope                 \n",
      "FOCUS   =                19964 / [mm] Telescope focus                           \n",
      "CAMPRO  = 'NEWCAM  '           / Camera program name                            \n",
      "CAMVER  = '2.0     '           / Camera program version                         \n",
      "COMMENT --------OBSERVATION PARAMETERS                                          \n",
      "DATE-OBS= '2020-03-30T02:29:02.637' / UTC date and time at the start of observat\n",
      "DATE-BEG= '2020-03-30T02:29:02.637' / Local time at the start of observation    \n",
      "DATE-END= '2020-03-30T04:39:16.801' / Local time at the end of observation      \n",
      "OBSERVER= 'wangjianling'       / Observer                                       \n",
      "PLANID  = 'HD151157N364516M02' / Plan ID in use                                 \n",
      "NGUIDE  =                    4 / Number of guider CCD during exposure           \n",
      "RA      =        226.825362200 / RA of object                                   \n",
      "DEC     =        38.9423857000 / DEC of object                                  \n",
      "MAGTYPE = 'MODugriz'           / Magtype of object                              \n",
      "EQUINOX =              2000.00 / Equinox in years                               \n",
      "RADECSYS= 'FK5     '           / Catalogues of Fundamental Stars                \n",
      "GALLONG =        59.8190629319 / [degree] Galactic longitude of the field center\n",
      "GALLATI =        58.8737375196 / [degree] Galactic latitude of the field center \n",
      "AZ      =                222.3 / [degree] Average azimuth of the field center   \n",
      "ALT     =                 81.6 / [degree] Average altitude of the field center  \n",
      "HA_BEGN =                -4.43 / [degree] Hour angle of the field center at the \n",
      "HA_END  =                28.41 / [degree] Hour angle of the field center at the \n",
      "OBS_TYPE= 'OBJ     '           / OBJ, FLAT, ARC or BIAS                         \n",
      "OBSCOMM = 'Science '           / Science, Test                                  \n",
      "SEEING  =                  3.1 / [arcsecond] Median seeing during observation   \n",
      "MOONPHA =                 4.89 / [day] Moon Phase for a 29.53 Day Peroid        \n",
      "AIRMASS =                 1.02 / Average airmass of the field center            \n",
      "SPID    =                   16 / Spectrograph ID                                \n",
      "SPRA    =        226.426231850 / Average RA of this spectrograph                \n",
      "SPDEC   =        38.4216521210 / Average DEC of this spectrograph               \n",
      "SLIT_MOD= 'x2/3    '           / Slit mode, x1 ,x2/3 or x1/2                    \n",
      "COMMENT --------WEATHER PARAMETERS                                              \n",
      "WTIME   = '2020-03-30T02:22:02' / Timestamp of the weather data                 \n",
      "TEMPCCDB=                -92.4 / [degree Celsius] Temprature of blue CCD chip   \n",
      "TEMPCCDR=                -91.3 / [degree Celsius] Temprature of red CCD chip    \n",
      "TEMP_AIR=                  4.5 / [degree Celsius] The air temprature out of dome\n",
      "TEMP_FP =                  0.0 / [degree Celsius] Temprature of the focalplane  \n",
      "TEMP_MA =                  0.0 / [degree Celsius] Temprature of mirror MA       \n",
      "TEMP_MB =                  0.0 / [degree Celsius] Temprature of mirror MB       \n",
      "DEWPOINT=                 -4.5 / [degree Celsius] Dewpoint                      \n",
      "HUMIDITY=                 53.7 / Humidity                                       \n",
      "WINDD   =                119.4 / [degree] Wind direction from north of east     \n",
      "WINDS   =                  4.5 / [m/s] Wind speed                               \n",
      "SKYLEVEL=                  0.0 / Cloud level                                    \n",
      "COMMENT --------DATA PROCESSING PARAMETERS                                      \n",
      "VERSIDL = '7.0.6   '           / IDL version                                    \n",
      "VERS2D  = 'v2.9    '           / 2D pipeline version                            \n",
      "SVNREV  = '3282    '           / SVN revision number                            \n",
      "MJD     =                58938 / Local Modified Julian day                      \n",
      "MJDLIST = '58937-58937-58937-58937' /                                           \n",
      "MJMLIST = '84870868-84870902-84870935-84870969' /                               \n",
      "SKYLIST = 'skylines.dat'       / Sky emission line list                         \n",
      "LAMPLIST= 'lamphgcdne.dat'     / Arc lamp emission line list                    \n",
      "EXPID1  = '16b-20200330022858-36-84870868' / ID string for exposure 1           \n",
      "EXPID2  = '16b-20200330030222-37-84870902' / ID string for exposure 2           \n",
      "EXPID3  = '16b-20200330033549-38-84870935' / ID string for exposure 3           \n",
      "EXPID4  = '16b-20200330040911-39-84870969' / ID string for exposure 4           \n",
      "EXPID5  = '16r-20200330022858-36-84870868' / ID string for exposure 5           \n",
      "EXPID6  = '16r-20200330030222-37-84870902' / ID string for exposure 6           \n",
      "EXPID7  = '16r-20200330033549-38-84870935' / ID string for exposure 7           \n",
      "EXPID8  = '16r-20200330040911-39-84870969' / ID string for exposure 8           \n",
      "NEXP    =              8.00000 / Number of exposures                            \n",
      "NEXP_B  =              4.00000 / Number of blue exposures                       \n",
      "NEXP_R  =              4.00000 / Number of red exposures                        \n",
      "EXPT_B  =              7200.00 / [s] Blue exposure duration time                \n",
      "EXPT_R  =              7200.00 / [s] Red exposure duration time                 \n",
      "EXPTIME =              7200.00 / [s] Minimum exposure time for all cameras      \n",
      "BESTEXP =             84870868 / MJM of best exposure                           \n",
      "QUALITY = 'good    '           / Night image quality EXCELLENT,GOOD,BAD         \n",
      "SCAMEAN =                  3.7 / [ADU] Average scatter light flux               \n",
      "EXTRACT = 'aperture'           / Flux extraction method                         \n",
      "SFLATTEN=                    T / Super flat has been applied                    \n",
      "PCASKYSB=                    T / PCA sky-subtraction has been applied           \n",
      "NSKIES  =                   21 / Number of sky fibers                           \n",
      "SKYCHI2 =                  1.7 / Average chi^2 of sky-subtraction               \n",
      "SCHI2MIN=                  1.5 / Minimum chi^2 of sky-subtraction               \n",
      "SCHI2MAX=                  1.9 / Maximum chi^2 of sky-subtraction               \n",
      "NSTD    =                    4 / Number of flux standard stars                  \n",
      "FSTAR   = '42-148-160-230'     / Flux standard stars list                       \n",
      "FCBY    = 'catalog '           / Standard stars selecting method                \n",
      "FBADPIX =           0.00132306 / Fraction of bad pixels                         \n",
      "HELIO_RV=                -5.70 / [km/s] Heliocentric correction (added to veloci\n",
      "HELIOC  =                    T / Wavelengths are in heliocentric                \n",
      "VACUUM  =                    T / Wavelengths are in vacuum                      \n",
      "EXTNAME = 'Flux    '           /                                                \n",
      "NWORDER =                    2 / Linear-log10 coefficients                      \n",
      "WFITTYPE= 'LOG-LINEAR'         / Linear-log10 dispersion                        \n",
      "COEFF0  =              3.56820 / Central wavelength (log10) of first pixel      \n",
      "COEFF1  =          0.000100000 / Log10 dispersion per pixel                     \n",
      "WAT0_001= 'system=linear'      /                                                \n",
      "WAT1_001= 'wtype=linear label=Wavelength units=Angstroms' /                     \n",
      "CRVAL1  =              3.56820 / Central wavelength (log10) of first pixel      \n",
      "CD1_1   =          0.000100000 / Log10 dispersion per pixel                     \n",
      "CRPIX1  =                    1 / Starting pixel (1-indexed)                     \n",
      "CTYPE1  = 'LINEAR  '           /                                                \n",
      "DC-FLAG =                    1 / Log-linear flag                                \n",
      "UNAME   = 'dhs48   '           /                                                \n",
      "VERS1D  = 'v2.9.7  '           /Version of idlspec2d for 1D reduction           \n",
      "DIMS0   =                  193 / Number of fits per objects                     \n",
      "DIMS1   =                  250 / Number of objects                              \n",
      "FIBERID = '248     '           /Fiber ID of Object                              \n",
      "CELL_ID = 'H0605   '           / Cell ID of spec                                \n",
      "X_VALUE =        313.791800545 / X value of object                              \n",
      "Y_VALUE =       -762.359482337 / y value of object                              \n",
      "LMJD    = '58938   '           /Local Modified Julian day                       \n",
      "DESIG   = 'J150718.08+385632.5' /Designation of LAMOST target                   \n",
      "1D_CLASS= 'Unknown '           / Class of Object from 1D                        \n",
      "1D_SUBCL= 'Non     '           / Subclass of Object from 1D                     \n",
      "1D_Z    =             -9999.00 / Redshift of Object from 1D                     \n",
      "1D_Z_ERR=             -9999.00 / Redshift Error of Object from 1D               \n",
      "BF_CLASS= 'GALAXY  '           / Class of Best Fit                              \n",
      "BF_SUBCL= 'Non     '           / Subclass of Best Fit                           \n",
      "BF_Z    =             0.133991 / Redshift of Best Fit                           \n",
      "BF_Z_ERR=          2.43754E-05 / Redshift Error of Best Fit                     \n",
      "GL      =              64.3323 / Galactic Longitude                             \n",
      "GB      =              59.3959 / Galactic Latitude                              \n",
      "TFILE   = 'spEigenGal-53724.fits' / Template of Redshift Fit                    \n",
      "RCHI2   =              6.11352 / Min-Chi2/Dof of Redshift Fit                   \n",
      "RCHI2DIF=             0.196431 / Diff of two best Redshift Fit                  \n",
      "TCOLUMN =                    0 / Column number of templates                     \n",
      "IS_BESTF=                    0 /                                                \n",
      "ZWARNING=                    0 / Zwarning of Redshift                           \n",
      "ZCONF   =              0.00000 / Zconfidence of Redshift                        \n",
      "EYE2DMAS=                    0 / Mask of 2D-recheck                             \n",
      "MAG1    =              19.7400 / Mag1 of object                                 \n",
      "MAG2    =              18.1200 / Mag2 of object                                 \n",
      "MAG3    =              17.2500 / Mag3 of object                                 \n",
      "MAG4    =              16.8600 / Mag4 of object                                 \n",
      "MAG5    =              16.5300 / Mag5 of object                                 \n",
      "MAG6    =              99.0000 / Mag6 of object                                 \n",
      "MAG7    =              99.0000 / Mag7 of object                                 \n",
      "OBJNAME = '246185991760337'    / Name of object (Obj, N/A)                      \n",
      "OBJTYPE = 'Star    '           / Type of object (FaintS, Sky)                   \n",
      "OBJSOURC= 'LEGUE_NAOC'         / Source of object (FaintS, Sky)                 \n",
      "FIBERTYP= 'Obj     '           / Fibertype of object (Obj, Sky, SL, N/A)        \n",
      "SN_U    =             0.184222 /sn of SDSS_u fliter                             \n",
      "SN_G    =              2.64975 /sn of SDSS_g fliter                             \n",
      "SN_R    =              6.55763 /sn of SDSS_r fliter                             \n",
      "SN_I    =              12.1755 /sn of SDSS_i fliter                             \n",
      "SN_Z    =              7.79359 /sn of SDSS_z fliter                             \n",
      "ELODIEZ =                -9999 / elodie_redshift of star                        \n",
      "ELZ_ERR =                -9999 / elodie_redshift error of star                  \n"
     ]
    }
   ],
   "source": [
    "with fits.open(data_dir + filename) as f:\n",
    "    hdr = f['Flux'].header  \n",
    "    # hdr = f[0].header  # 也可以用索引值 \n",
    "    print(repr(hdr))"
   ]
  },
  {
   "cell_type": "markdown",
   "id": "3d9bb715-b4f3-41fd-a21f-5755079d3809",
   "metadata": {},
   "source": [
    "### 1.2.查看 value"
   ]
  },
  {
   "cell_type": "code",
   "execution_count": 3,
   "id": "25283b2b-9d93-4ff5-b84a-7b044b46c91c",
   "metadata": {},
   "outputs": [
    {
     "name": "stdout",
     "output_type": "stream",
     "text": [
      "True\n"
     ]
    }
   ],
   "source": [
    "# 有 2 种方法\n",
    "# 方法 1：关键字\n",
    "with fits.open(data_dir + filename) as f:\n",
    "    hdr = f[0].header\n",
    "    tmp = hdr['SIMPLE']\n",
    "    print(tmp)"
   ]
  },
  {
   "cell_type": "code",
   "execution_count": 4,
   "id": "6b01995e-2273-42ab-8ef2-ad2222491945",
   "metadata": {},
   "outputs": [
    {
     "name": "stdout",
     "output_type": "stream",
     "text": [
      "True\n"
     ]
    }
   ],
   "source": [
    "# 方法 2：索引值（不推荐）\n",
    "with fits.open(data_dir + filename) as f:\n",
    "    hdr = f[0].header\n",
    "    tmp = hdr[0]  # 支持切片，显示多个\n",
    "    print(tmp)"
   ]
  },
  {
   "cell_type": "markdown",
   "id": "6dee3f0d-2448-42b7-a7ab-52874f3cf623",
   "metadata": {},
   "source": [
    "### 1.3.查看 comment"
   ]
  },
  {
   "cell_type": "code",
   "execution_count": 5,
   "id": "1d3bf847-b73f-4edb-b36d-5dccb1140c92",
   "metadata": {},
   "outputs": [
    {
     "name": "stdout",
     "output_type": "stream",
     "text": [
      "DATE-OBS\n",
      "2020-03-30T02:29:02.637\n",
      "UTC date and time at the start of observat\n"
     ]
    }
   ],
   "source": [
    "with fits.open(data_dir + filename) as f:\n",
    "    keyword = 'DATE-OBS'\n",
    "    tmp1 = f[0].header[keyword]\n",
    "    tmp2 = f[0].header.comments[keyword]\n",
    "    print(keyword + '\\n' + tmp1 + '\\n' + tmp2)"
   ]
  },
  {
   "cell_type": "markdown",
   "id": "d0233095-6637-43fe-8319-c3da923f2658",
   "metadata": {},
   "source": [
    "### 1.4.查看 keyword"
   ]
  },
  {
   "cell_type": "code",
   "execution_count": 6,
   "id": "d7cce8ff-b497-4793-8804-836b2299b5cf",
   "metadata": {},
   "outputs": [
    {
     "name": "stdout",
     "output_type": "stream",
     "text": [
      "['SIMPLE', 'BITPIX', 'NAXIS', 'NAXIS1', 'NAXIS2', 'EXTEND', '', 'COMMENT', 'FILENAME', 'GENETIME', 'AUTHOR', 'N_EXTEN', 'EXTEN0', 'EXTEN1', 'ORIGIN', 'COMMENT', 'TELESCOP', 'LONGITUD', 'LATITUDE', 'FOCUS', 'CAMPRO', 'CAMVER', 'COMMENT', 'DATE-OBS', 'DATE-BEG', 'DATE-END', 'OBSERVER', 'PLANID', 'NGUIDE', 'RA', 'DEC', 'MAGTYPE', 'EQUINOX', 'RADECSYS', 'GALLONG', 'GALLATI', 'AZ', 'ALT', 'HA_BEGN', 'HA_END', 'OBS_TYPE', 'OBSCOMM', 'SEEING', 'MOONPHA', 'AIRMASS', 'SPID', 'SPRA', 'SPDEC', 'SLIT_MOD', 'COMMENT', 'WTIME', 'TEMPCCDB', 'TEMPCCDR', 'TEMP_AIR', 'TEMP_FP', 'TEMP_MA', 'TEMP_MB', 'DEWPOINT', 'HUMIDITY', 'WINDD', 'WINDS', 'SKYLEVEL', 'COMMENT', 'VERSIDL', 'VERS2D', 'SVNREV', 'MJD', 'MJDLIST', 'MJMLIST', 'SKYLIST', 'LAMPLIST', 'EXPID1', 'EXPID2', 'EXPID3', 'EXPID4', 'EXPID5', 'EXPID6', 'EXPID7', 'EXPID8', 'NEXP', 'NEXP_B', 'NEXP_R', 'EXPT_B', 'EXPT_R', 'EXPTIME', 'BESTEXP', 'QUALITY', 'SCAMEAN', 'EXTRACT', 'SFLATTEN', 'PCASKYSB', 'NSKIES', 'SKYCHI2', 'SCHI2MIN', 'SCHI2MAX', 'NSTD', 'FSTAR', 'FCBY', 'FBADPIX', 'HELIO_RV', 'HELIOC', 'VACUUM', 'EXTNAME', 'NWORDER', 'WFITTYPE', 'COEFF0', 'COEFF1', 'WAT0_001', 'WAT1_001', 'CRVAL1', 'CD1_1', 'CRPIX1', 'CTYPE1', 'DC-FLAG', 'UNAME', 'VERS1D', 'DIMS0', 'DIMS1', 'FIBERID', 'CELL_ID', 'X_VALUE', 'Y_VALUE', 'LMJD', 'DESIG', '1D_CLASS', '1D_SUBCL', '1D_Z', '1D_Z_ERR', 'BF_CLASS', 'BF_SUBCL', 'BF_Z', 'BF_Z_ERR', 'GL', 'GB', 'TFILE', 'RCHI2', 'RCHI2DIF', 'TCOLUMN', 'IS_BESTF', 'ZWARNING', 'ZCONF', 'EYE2DMAS', 'MAG1', 'MAG2', 'MAG3', 'MAG4', 'MAG5', 'MAG6', 'MAG7', 'OBJNAME', 'OBJTYPE', 'OBJSOURC', 'FIBERTYP', 'SN_U', 'SN_G', 'SN_R', 'SN_I', 'SN_Z', 'ELODIEZ', 'ELZ_ERR']\n"
     ]
    }
   ],
   "source": [
    "with fits.open(data_dir + filename) as f:\n",
    "    hdr = f[0].header\n",
    "    keywords = list(hdr.keys())\n",
    "    print(keywords)"
   ]
  },
  {
   "cell_type": "markdown",
   "id": "f92ac570-d174-4145-a1e5-2f2a4b0a6f66",
   "metadata": {},
   "source": [
    "---\n",
    "\n",
    "## 2.查看 data"
   ]
  },
  {
   "cell_type": "code",
   "execution_count": 17,
   "id": "99a941e5-a760-490c-b5ec-f3dddd31af82",
   "metadata": {
    "tags": []
   },
   "outputs": [
    {
     "data": {
      "text/plain": [
       "[<matplotlib.lines.Line2D at 0x7fbf69a95880>]"
      ]
     },
     "execution_count": 17,
     "metadata": {},
     "output_type": "execute_result"
    },
    {
     "data": {
      "image/png": "[encoded data removed]",
      "text/plain": [
       "<Figure size 432x288 with 1 Axes>"
      ]
     },
     "metadata": {
      "needs_background": "light"
     },
     "output_type": "display_data"
    }
   ],
   "source": [
    "import matplotlib.pyplot as plt\n",
    "import numpy as np\n",
    "\n",
    "with fits.open(data_dir + filename) as f:\n",
    "    # read the header and data of the spectra HDU\n",
    "    header = f[0].header\n",
    "    data = f[0].data\n",
    "    \n",
    "    # get the flux\n",
    "    flux = data[0]\n",
    "    \n",
    "    # get the wavelength\n",
    "    log_wave0 = header['COEFF0']  # Central wavelength (log10) of first pixel\n",
    "    log_dw = header['COEFF1']     # log10 dispersion per pixel\n",
    "    number = header['NAXIS1']     # the number of pixels\n",
    "    wavelength = 10 ** (log_wave0 + np.arange(number) * log_dw)\n",
    "\n",
    "%matplotlib inline\n",
    "plt.plot(wavelength, flux)"
   ]
  },
  {
   "cell_type": "markdown",
   "id": "25ddfd34-b94f-4a55-a192-6002553503c4",
   "metadata": {
    "toc-hr-collapsed": true
   },
   "source": [
    "## 参考资料\n",
    "\n",
    "- [FITS File Handling](https://docs.astropy.org/en/stable/io/fits/index.html)\n",
    "- [FITS Standard Document](https://fits.gsfc.nasa.gov/fits_standard.html)"
   ]
  }
 ],
 "metadata": {
  "kernelspec": {
   "display_name": "Python 3",
   "language": "python",
   "name": "python3"
  },
  "language_info": {
   "codemirror_mode": {
    "name": "ipython",
    "version": 3
   },
   "file_extension": ".py",
   "mimetype": "text/x-python",
   "name": "python",
   "nbconvert_exporter": "python",
   "pygments_lexer": "ipython3",
   "version": "3.9.5"
  },
  "toc-autonumbering": false,
  "toc-showcode": false,
  "toc-showtags": false
 },
 "nbformat": 4,
 "nbformat_minor": 5
}
