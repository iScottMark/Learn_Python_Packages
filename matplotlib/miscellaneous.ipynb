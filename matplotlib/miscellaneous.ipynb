{
 "cells": [
  {
   "cell_type": "markdown",
   "id": "37f0671c-d99d-45c7-8c36-7b4396cebe9a",
   "metadata": {},
   "source": [
    "# 大杂烩"
   ]
  },
  {
   "cell_type": "markdown",
   "id": "40c9cdd8-906f-4612-8b3f-0652bdbc9d96",
   "metadata": {},
   "source": [
    "## `subplot` 和 `subplots` 的用法区别"
   ]
  },
  {
   "cell_type": "code",
   "execution_count": null,
   "id": "54723fcf-3669-4187-8b68-bde6f2f55c93",
   "metadata": {},
   "outputs": [],
   "source": []
  }
 ],
 "metadata": {
  "kernelspec": {
   "display_name": "deeplearning",
   "language": "python",
   "name": "deeplearning"
  },
  "language_info": {
   "codemirror_mode": {
    "name": "ipython",
    "version": 3
   },
   "file_extension": ".py",
   "mimetype": "text/x-python",
   "name": "python",
   "nbconvert_exporter": "python",
   "pygments_lexer": "ipython3",
   "version": "3.9.5"
  }
 },
 "nbformat": 4,
 "nbformat_minor": 5
}
