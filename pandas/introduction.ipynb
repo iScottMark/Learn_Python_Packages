{
 "cells": [
  {
   "cell_type": "markdown",
   "metadata": {},
   "source": [
    "# Pandas"
   ]
  },
  {
   "cell_type": "markdown",
   "metadata": {},
   "source": [
    "## 我想了解的\n",
    "\n",
    "- 不同的筛选查询方式\n",
    "- 数据的统计量\n",
    "- 数据的索引 or 查看\n",
    "- 表格的拼接、删除等操作\n",
    "- 缺失值、异常值、一致性等数据质量的分析\n",
    "- 赋值操作\n"
   ]
  },
  {
   "cell_type": "markdown",
   "metadata": {},
   "source": [
    "loc, iloc, ix, at, iat 的区别\n",
    "\n",
    "[pandas DataFrame的查询方法（loc,iloc,at,iat,ix的用法和区别）](https://www.cnblogs.com/datasnail/archive/2018/10/08/9757081.html)"
   ]
  }
 ],
 "metadata": {
  "language_info": {
   "name": "python"
  },
  "orig_nbformat": 4
 },
 "nbformat": 4,
 "nbformat_minor": 2
}
